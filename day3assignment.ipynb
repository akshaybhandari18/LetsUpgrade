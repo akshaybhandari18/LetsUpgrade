{
  "nbformat": 4,
  "nbformat_minor": 0,
  "metadata": {
    "colab": {
      "name": "day3assignment.ipynb",
      "provenance": []
    },
    "kernelspec": {
      "name": "python3",
      "display_name": "Python 3"
    }
  },
  "cells": [
    {
      "cell_type": "code",
      "metadata": {
        "id": "fu6rNZ3IJ-9m",
        "colab_type": "code",
        "colab": {
          "base_uri": "https://localhost:8080/",
          "height": 51
        },
        "outputId": "15224f3f-60cd-47cd-da48-f3461b421e5c"
      },
      "source": [
        "#Assignment 1\n",
        "\n",
        "alt = int(input(\"Enter the Altitude:\"))\n",
        "\n",
        "if alt<=1000:\n",
        "  print(\"Safe to land\")\n",
        "\n",
        "elif alt>1000 and alt<=5000:\n",
        "  print(\"Bring down to 1000ft\")\n",
        "\n",
        "else:\n",
        "  print(\"Turn Around\")"
      ],
      "execution_count": null,
      "outputs": [
        {
          "output_type": "stream",
          "text": [
            "Enter the Altitude:6500\n",
            "Turn Around\n"
          ],
          "name": "stdout"
        }
      ]
    },
    {
      "cell_type": "code",
      "metadata": {
        "id": "qzrRWpcoLvKc",
        "colab_type": "code",
        "colab": {
          "base_uri": "https://localhost:8080/",
          "height": 799
        },
        "outputId": "968e05c7-4449-4e19-ea4e-94051a92a135"
      },
      "source": [
        "#Assignment 2\n",
        "\n",
        "for i in range(1,201):\n",
        "  if i>1:\n",
        "    for j in range (2,i):\n",
        "      if(i%j==0):\n",
        "        break\n",
        "    else:\n",
        "      print(i)\n",
        "\n"
      ],
      "execution_count": null,
      "outputs": [
        {
          "output_type": "stream",
          "text": [
            "2\n",
            "3\n",
            "5\n",
            "7\n",
            "11\n",
            "13\n",
            "17\n",
            "19\n",
            "23\n",
            "29\n",
            "31\n",
            "37\n",
            "41\n",
            "43\n",
            "47\n",
            "53\n",
            "59\n",
            "61\n",
            "67\n",
            "71\n",
            "73\n",
            "79\n",
            "83\n",
            "89\n",
            "97\n",
            "101\n",
            "103\n",
            "107\n",
            "109\n",
            "113\n",
            "127\n",
            "131\n",
            "137\n",
            "139\n",
            "149\n",
            "151\n",
            "157\n",
            "163\n",
            "167\n",
            "173\n",
            "179\n",
            "181\n",
            "191\n",
            "193\n",
            "197\n",
            "199\n"
          ],
          "name": "stdout"
        }
      ]
    }
  ]
}